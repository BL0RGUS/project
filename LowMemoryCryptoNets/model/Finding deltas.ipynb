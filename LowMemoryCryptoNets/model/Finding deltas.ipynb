{
 "cells": [
  {
   "cell_type": "code",
   "execution_count": null,
   "id": "974575f9",
   "metadata": {},
   "outputs": [
    {
     "name": "stdout",
     "output_type": "stream",
     "text": [
      "torch.Size([4096, 10])\n",
      "torch.Size([10, 10])\n"
     ]
    },
    {
     "data": {
      "text/plain": [
       "CryptoNet(\n",
       "  (conv1): Conv2d(3, 8, kernel_size=(3, 3), stride=(1, 1), padding=(1, 1), bias=False)\n",
       "  (bn1): BatchNorm2d(8, eps=1e-05, momentum=0.1, affine=True, track_running_stats=True)\n",
       "  (conv2): Conv2d(8, 16, kernel_size=(3, 3), stride=(2, 2), padding=(1, 1), bias=False)\n",
       "  (bn2): BatchNorm2d(16, eps=1e-05, momentum=0.1, affine=True, track_running_stats=True)\n",
       "  (fc1): Linear(in_features=4096, out_features=10, bias=False)\n",
       "  (fc2): Linear(in_features=10, out_features=10, bias=False)\n",
       ")"
      ]
     },
     "execution_count": 1,
     "metadata": {},
     "output_type": "execute_result"
    }
   ],
   "source": [
    "import torch\n",
    "import torchvision.datasets\n",
    "import torchvision.transforms\n",
    "import torch.nn as nn\n",
    "import torch.nn.functional as F\n",
    "import torch.optim as optim\n",
    "from PIL import Image\n",
    "import numpy as np\n",
    "import matplotlib.pyplot as plt\n",
    "import math\n",
    "\n",
    "class CryptoNet(nn.Module):\n",
    "    def __init__(self):\n",
    "        super(CryptoNet, self).__init__()\n",
    "        self.conv1 = nn.Conv2d(3, 5, kernel_size=3, stride=1, padding=1, bias=False)\n",
    "        self.bn1 = nn.BatchNorm2d(5)\n",
    "        self.conv2 = nn.Conv2d(5, 10, kernel_size=3, stride=2, padding=1, bias=False)\n",
    "        self.bn2 = nn.BatchNorm2d(10)\n",
    "        self.fc1 = nn.Linear(2560, 10, bias =  False)\n",
    "        self.fc2 = nn.Linear(10, 10, bias = False)\n",
    "\n",
    "    def forward(self, x):\n",
    "        x = self.conv1(x)\n",
    "        x = self.bn1(x)\n",
    "        x = F.relu(x)\n",
    "        x = self.conv2(x)\n",
    "        x = self.bn2(x)\n",
    "        x = F.relu (x)\n",
    "        x = x.view(x.size(0), -1)\n",
    "        x = self.fc1(x)\n",
    "        x = F.relu(x)\n",
    "        x = self.fc2(x)\n",
    "        x = F.sigmoid(x)\n",
    "        return x\n",
    "\n",
    "\n",
    "model = CryptoNet()\n",
    "network_state_dict = torch.load('padded_cifar_model.pth')\n",
    "model.load_state_dict(network_state_dict)\n",
    "\n",
    "print(model.fc1.weight.t().shape)\n",
    "print(model.fc2.weight.t().shape)\n",
    "\n",
    "model.eval()"
   ]
  },
  {
   "cell_type": "code",
   "execution_count": 2,
   "id": "ccc1dbf5",
   "metadata": {},
   "outputs": [],
   "source": [
    "test_dataset = torch.utils.data.DataLoader(\n",
    "  torchvision.datasets.CIFAR10(root='imgs/', train=False,\n",
    "                               download=True, transform=torchvision.transforms.Compose([\n",
    "                               torchvision.transforms.ToTensor()\n",
    "                             ])),\n",
    "  batch_size=32, shuffle=True)"
   ]
  },
  {
   "cell_type": "markdown",
   "id": "c4852f39",
   "metadata": {},
   "source": [
    "## Initial Layer"
   ]
  },
  {
   "cell_type": "code",
   "execution_count": 3,
   "id": "5305a099",
   "metadata": {},
   "outputs": [
    {
     "name": "stdout",
     "output_type": "stream",
     "text": [
      "Min: -1.9983596801757812\n",
      "Max: 1.5004990100860596\n",
      "Suggested Delta: 0.5004104375839233\n"
     ]
    }
   ],
   "source": [
    "values = []\n",
    "\n",
    "for img, label in test_dataset:\n",
    "    v = model.bn1(model.conv1(img)).reshape(-1).detach().numpy()\n",
    "    values.append(max(v))\n",
    "    values.append(min(v))\n",
    "    \n",
    "print(\"Min: {}\\nMax: {}\\nSuggested Delta: {}\".format(min(values), max(values), 1 / (max(abs(min(values)), abs(max(values))))))"
   ]
  },
  {
   "cell_type": "code",
   "execution_count": 4,
   "id": "2e083b16",
   "metadata": {},
   "outputs": [
    {
     "name": "stdout",
     "output_type": "stream",
     "text": [
      "Min: -3.479012966156006\n",
      "Max: 3.516836643218994\n",
      "Suggested Delta: 0.28434643149375916\n"
     ]
    }
   ],
   "source": [
    "values = []\n",
    "\n",
    "for img, label in test_dataset:\n",
    "    v = F.relu(model.bn1(model.conv1(img)))\n",
    "    v = model.bn2(model.conv2(v)).reshape(-1).detach().numpy()\n",
    "    values.append(max(v))\n",
    "    values.append(min(v))\n",
    "    \n",
    "print(\"Min: {}\\nMax: {}\\nSuggested Delta: {}\".format(min(values), max(values), 1 / (max(abs(min(values)), abs(max(values))))))"
   ]
  },
  {
   "cell_type": "code",
   "execution_count": 5,
   "id": "cc18a530",
   "metadata": {},
   "outputs": [
    {
     "name": "stdout",
     "output_type": "stream",
     "text": [
      "Min: -7.464317798614502\n",
      "Max: 52.481082916259766\n",
      "Suggested Delta: 0.019054485484957695\n"
     ]
    }
   ],
   "source": [
    "values = []\n",
    "\n",
    "for img, label in test_dataset:\n",
    "    v = F.relu(model.bn1(model.conv1(img)))\n",
    "    v = F.relu(model.bn2(model.conv2(v)))\n",
    "    v = v.view(v.size(0), -1)\n",
    "    v = model.fc1(v).reshape(-1).detach().numpy()\n",
    "    values.append(max(v))\n",
    "    values.append(min(v))\n",
    "    \n",
    "print(\"Min: {}\\nMax: {}\\nSuggested Delta: {}\".format(min(values), max(values), 1 / (max(abs(min(values)), abs(max(values))))))"
   ]
  }
 ],
 "metadata": {
  "kernelspec": {
   "display_name": ".venv",
   "language": "python",
   "name": "python3"
  },
  "language_info": {
   "codemirror_mode": {
    "name": "ipython",
    "version": 3
   },
   "file_extension": ".py",
   "mimetype": "text/x-python",
   "name": "python",
   "nbconvert_exporter": "python",
   "pygments_lexer": "ipython3",
   "version": "3.9.17"
  }
 },
 "nbformat": 4,
 "nbformat_minor": 5
}
